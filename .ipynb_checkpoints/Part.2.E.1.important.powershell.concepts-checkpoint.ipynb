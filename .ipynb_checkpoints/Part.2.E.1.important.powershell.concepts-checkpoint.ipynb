{
 "cells": [
  {
   "cell_type": "markdown",
   "metadata": {},
   "source": [
    "# 理解重要的PowerShell概念"
   ]
  },
  {
   "cell_type": "markdown",
   "metadata": {},
   "source": [
    "## 基于对象"
   ]
  },
  {
   "cell_type": "markdown",
   "metadata": {},
   "source": [
    "PowerShell是基于对象的，对象是一种结构化的信息，而不仅仅是看上去的一堆字符串显示在屏幕上。"
   ]
  },
  {
   "cell_type": "markdown",
   "metadata": {},
   "source": [
    "**【例子】**  \n",
    "比如：  \n",
    "```powershell\n",
    "Get-Process notepad | fl *\n",
    "```\n",
    "在PowerShell，你看到的信息不是平的，一个块整体的文字，每一项你看到的内容，都是一个notepad这个进程对象中的一个个属性，比如name，你可以单独把这个属性选择出来\n",
    "```powershell\n",
    "Get-Process notepad | Select-Object name\n",
    "```"
   ]
  },
  {
   "cell_type": "markdown",
   "metadata": {},
   "source": [
    "**【练习】**  \n",
    "打开一个记事本程序，执行命令：\n",
    "```powershell\n",
    "Get-Process notepad | Get-Member\n",
    "```\n",
    "1.看看都有哪些属性，试着模仿一下用过的命令把ID信息选择出来。"
   ]
  },
  {
   "cell_type": "markdown",
   "metadata": {},
   "source": [
    "**【交作业(Maggie)】** "
   ]
  },
  {
   "cell_type": "markdown",
   "metadata": {},
   "source": [
    "![](images/Xiaoyue-homework001.png)\n",
    "![](images/Xiaoyue-homework002.png)\n",
    "![](images/Xiaoyue-homework003.png)\n",
    "![](images/Xiaoyue-homework004.png)"
   ]
  },
  {
   "cell_type": "markdown",
   "metadata": {},
   "source": [
    "## 命令是可以扩展的"
   ]
  },
  {
   "cell_type": "markdown",
   "metadata": {},
   "source": [
    "不同于传统的cmd.exe这样的命令行工具，你不能直接的扩展自己想用的命令，对于PowerShell，内置的命令我们称为cmdlet，除了cmdlet，你可以通过编译的代码或者脚本，创建你自己的模块和功能，来扩展PowerShell命令行的功能。"
   ]
  },
  {
   "cell_type": "markdown",
   "metadata": {},
   "source": [
    "**【例子】**  \n",
    "```bash\n",
    "function get-diskCFreeSpace {\n",
    "    param (\n",
    "        $computername=$env:COMPUTERNAME\n",
    "    )\n",
    "    Get-WmiObject win32_logicaldisk | Where-Object {$_.deviceid -eq 'c:'} | Format-Table @{name=\"FreeSpace(GB)\";expression={$_.freespace/1gb};formatstring='F2'}\n",
    "}\n",
    "```"
   ]
  },
  {
   "cell_type": "markdown",
   "metadata": {},
   "source": [
    "**【交作业(Maggie)】** "
   ]
  },
  {
   "cell_type": "markdown",
   "metadata": {},
   "source": [
    "![](images/Xiaoyue-homework005.png)"
   ]
  },
  {
   "cell_type": "markdown",
   "metadata": {},
   "source": [
    "## PowerShell使用一些C#的语法"
   ]
  },
  {
   "cell_type": "markdown",
   "metadata": {},
   "source": [
    "PowerShell 是基于.NET Framework建立的。它跟C#有这一些相同的语法和关键字。学习PowerShell可以让你更容易去学习C#，如果你已经比较熟悉C#，你也会很容易上手PowerShell。"
   ]
  }
 ],
 "metadata": {
  "kernelspec": {
   "display_name": "Python 3",
   "language": "python",
   "name": "python3"
  },
  "language_info": {
   "codemirror_mode": {
    "name": "ipython",
    "version": 3
   },
   "file_extension": ".py",
   "mimetype": "text/x-python",
   "name": "python",
   "nbconvert_exporter": "python",
   "pygments_lexer": "ipython3",
   "version": "3.7.3"
  },
  "toc-autonumbering": true
 },
 "nbformat": 4,
 "nbformat_minor": 2
}
